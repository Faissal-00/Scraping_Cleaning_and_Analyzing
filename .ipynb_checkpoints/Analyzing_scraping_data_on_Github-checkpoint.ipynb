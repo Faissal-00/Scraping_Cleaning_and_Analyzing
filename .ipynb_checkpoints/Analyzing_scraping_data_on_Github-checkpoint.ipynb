{
 "cells": [
  {
   "cell_type": "markdown",
   "id": "e6f69caf",
   "metadata": {},
   "source": [
    "# Analyse"
   ]
  },
  {
   "cell_type": "code",
   "execution_count": null,
   "id": "f69563b1",
   "metadata": {},
   "outputs": [],
   "source": [
    "# Analyze programming language trends\n",
    "language_counts = df['language'].value_counts()\n",
    "top_languages = language_counts.head(5)  # Get top 5 most used languages\n",
    "print(\"Programming Language Trends:\")\n",
    "top_languages"
   ]
  },
  {
   "cell_type": "code",
   "execution_count": null,
   "id": "7e654c56",
   "metadata": {},
   "outputs": [],
   "source": [
    "# Analyze project statistics\n",
    "average_stars = df['stars'].mean()\n",
    "max_forks = df['forks'].max()\n",
    "\n",
    "print(\"\\nProject Statistics:\")\n",
    "print(\"Average Stars:\", average_stars)\n",
    "print(\"Max Forks:\", max_forks)"
   ]
  },
  {
   "cell_type": "code",
   "execution_count": null,
   "id": "d8a928aa",
   "metadata": {},
   "outputs": [],
   "source": [
    "# Analyze Repository Creation Trends Over Time\n",
    "df['year_month'] = df['created_at'].dt.to_period('M')\n",
    "creation_trends = df.groupby('year_month').size().reset_index(name='count')\n",
    "print(\"Repository Creation Trends Over Time:\")\n",
    "creation_trends"
   ]
  },
  {
   "cell_type": "code",
   "execution_count": null,
   "id": "ee2de29c",
   "metadata": {},
   "outputs": [],
   "source": [
    "# Convert 'year_month' column to string format\n",
    "creation_trends['year_month'] = creation_trends['year_month'].astype(str)\n",
    "\n",
    "# Create Repository Creation Trends Over Time Plot\n",
    "plt.figure(figsize=(10, 6))\n",
    "plt.plot(creation_trends['year_month'], creation_trends['count'], marker='o')\n",
    "plt.xlabel('Year-Month')\n",
    "plt.ylabel('Number of Repositories Created')\n",
    "plt.title('Repository Creation Trends Over Time')\n",
    "plt.xticks(rotation=45)\n",
    "plt.grid(True)\n",
    "plt.show()"
   ]
  },
  {
   "cell_type": "code",
   "execution_count": null,
   "id": "5a564fd2",
   "metadata": {},
   "outputs": [],
   "source": [
    "# Analyze Popular Repositories by Stars\n",
    "popular_repositories_by_stars = df.nlargest(10, 'stars')[['name', 'stars', 'url']]\n",
    "print(\"\\nPopular Repositories by Stars:\")\n",
    "popular_repositories_by_stars"
   ]
  },
  {
   "cell_type": "code",
   "execution_count": null,
   "id": "24e64161",
   "metadata": {},
   "outputs": [],
   "source": [
    "# Top Repositories by Stars Bar Chart\n",
    "plt.figure(figsize=(10, 6))\n",
    "plt.bar(popular_repositories_by_stars['name'], popular_repositories_by_stars['stars']) \n",
    "plt.xlabel('Repository')\n",
    "plt.ylabel('Number of Stars')\n",
    "plt.title('Top 10 Starred Repositories')\n",
    "plt.xticks(rotation=45)\n",
    "plt.grid(True)\n",
    "plt.show()"
   ]
  },
  {
   "cell_type": "code",
   "execution_count": null,
   "id": "b1aa0196",
   "metadata": {},
   "outputs": [],
   "source": [
    "# Analyze Popular Repositories by Forks\n",
    "popular_repositories_by_forks = df.nlargest(10, 'forks')[['name', 'forks', 'url']]\n",
    "print(\"\\nPopular Repositories by Forks:\")\n",
    "popular_repositories_by_forks"
   ]
  },
  {
   "cell_type": "code",
   "execution_count": null,
   "id": "9e703e78",
   "metadata": {},
   "outputs": [],
   "source": [
    "# Create Popular Repositories by Forks Bar Plot\n",
    "plt.figure(figsize=(10, 6))\n",
    "plt.barh(popular_repositories_by_forks['name'], popular_repositories_by_forks['forks'], color='lightgreen')\n",
    "plt.xlabel('Number of Forks')\n",
    "plt.ylabel('Repository Name')\n",
    "plt.title('Popular Repositories by Forks')\n",
    "plt.gca().invert_yaxis()\n",
    "plt.show()"
   ]
  },
  {
   "cell_type": "code",
   "execution_count": null,
   "id": "c8f2dd42",
   "metadata": {},
   "outputs": [],
   "source": [
    "# Analyze Programming Language Usage\n",
    "language_usage = df['language'].value_counts()\n",
    "print(\"\\nProgramming Language Usage:\")\n",
    "print(language_usage)"
   ]
  },
  {
   "cell_type": "code",
   "execution_count": null,
   "id": "243ebc41",
   "metadata": {},
   "outputs": [],
   "source": [
    "# Language Distribution Pie Chart\n",
    "language_counts = df['language'].value_counts().head(10)  # Count the number of repositories for each language\n",
    "plt.figure(figsize=(8, 8))\n",
    "plt.pie(language_counts, labels=language_counts.index, autopct='%1.1f%%')  # Create a pie chart with language counts\n",
    "plt.title('Top 10 Programming Languages')\n",
    "plt.show()"
   ]
  },
  {
   "cell_type": "code",
   "execution_count": null,
   "id": "9956f61a",
   "metadata": {},
   "outputs": [],
   "source": [
    "# Average Stars by Language Bar Chart\n",
    "avg_stars_by_language = df.groupby('language')['stars'].mean().sort_values(ascending=False).head(10)\n",
    "plt.figure(figsize=(10, 6))\n",
    "plt.bar(avg_stars_by_language.index, avg_stars_by_language) \n",
    "plt.xlabel('Language')\n",
    "plt.ylabel('Average Stars')\n",
    "plt.title('Average Stars by Programming Language')\n",
    "plt.xticks(rotation=45)\n",
    "plt.grid(True)\n",
    "plt.show()"
   ]
  },
  {
   "cell_type": "code",
   "execution_count": null,
   "id": "97c266b7",
   "metadata": {},
   "outputs": [],
   "source": [
    "# Average Forks by Language Bar Chart\n",
    "avg_forks_by_language = df.groupby('language')['forks'].mean().sort_values(ascending=False).head(10)\n",
    "plt.figure(figsize=(10, 6))\n",
    "plt.bar(avg_forks_by_language.index, avg_forks_by_language)\n",
    "plt.xlabel('Language')\n",
    "plt.ylabel('Average Forks')\n",
    "plt.title('Average Forks by Programming Language')\n",
    "plt.xticks(rotation=45)\n",
    "plt.grid(True)\n",
    "plt.show()"
   ]
  },
  {
   "cell_type": "code",
   "execution_count": null,
   "id": "fc650aed",
   "metadata": {},
   "outputs": [],
   "source": [
    "# Generate a word cloud based on the descriptions of repositories\n",
    "from wordcloud import WordCloud\n",
    "\n",
    "# Concatenate all descriptions into a single string\n",
    "descriptions = ' '.join(df['description'].dropna().astype(str))\n",
    "\n",
    "# Generate word cloud\n",
    "wordcloud = WordCloud(width=800, height=400, background_color='white').generate(descriptions)\n",
    "\n",
    "# Plot the word cloud\n",
    "plt.figure(figsize=(10, 6))\n",
    "plt.imshow(wordcloud, interpolation='bilinear')\n",
    "plt.axis('off')\n",
    "plt.title('Word Cloud of Descriptions')\n",
    "plt.show()"
   ]
  },
  {
   "cell_type": "code",
   "execution_count": null,
   "id": "ab620c5f",
   "metadata": {},
   "outputs": [],
   "source": [
    "# Get the top owners by repository count\n",
    "top_owners = df['owner'].value_counts().head(10)\n",
    "\n",
    "# Plot the top owners by repository count\n",
    "plt.figure(figsize=(10, 6))\n",
    "plt.bar(top_owners.index, top_owners.values, color='lightcoral')\n",
    "plt.xlabel('Owner')\n",
    "plt.ylabel('Repository Count')\n",
    "plt.title('Top Owners by Repository Count')\n",
    "plt.xticks(rotation=45)\n",
    "plt.grid(True)\n",
    "plt.show()"
   ]
  },
  {
   "cell_type": "code",
   "execution_count": null,
   "id": "8574ddaf",
   "metadata": {},
   "outputs": [],
   "source": [
    "# Calculate the total open issues by owner\n",
    "owner_contribution = df.groupby('owner')['open_issues'].sum()\n",
    "\n",
    "# Plot the owner contribution analysis\n",
    "plt.figure(figsize=(10, 6))\n",
    "plt.bar(owner_contribution.index, owner_contribution.values, color='lightgreen')\n",
    "plt.xlabel('Owner')\n",
    "plt.ylabel('Total Open Issues')\n",
    "plt.title('Owner Contribution Analysis')\n",
    "plt.xticks(rotation=45)\n",
    "plt.grid(True)\n",
    "plt.show()"
   ]
  },
  {
   "cell_type": "code",
   "execution_count": null,
   "id": "ea3956e0",
   "metadata": {},
   "outputs": [],
   "source": [
    "# Calculate descriptive statistics of open issues\n",
    "open_issues_stats = df['open_issues'].describe()\n",
    "\n",
    "# Plot the descriptive statistics of open issues\n",
    "plt.figure(figsize=(8, 5))\n",
    "plt.bar(open_issues_stats.index, open_issues_stats.values, color='lightsalmon')\n",
    "plt.xlabel('Statistic')\n",
    "plt.ylabel('Value')\n",
    "plt.title('Descriptive Statistics of Open Issues')\n",
    "plt.grid(True)\n",
    "plt.show()"
   ]
  }
 ],
 "metadata": {
  "kernelspec": {
   "display_name": "Python 3 (ipykernel)",
   "language": "python",
   "name": "python3"
  },
  "language_info": {
   "codemirror_mode": {
    "name": "ipython",
    "version": 3
   },
   "file_extension": ".py",
   "mimetype": "text/x-python",
   "name": "python",
   "nbconvert_exporter": "python",
   "pygments_lexer": "ipython3",
   "version": "3.11.3"
  }
 },
 "nbformat": 4,
 "nbformat_minor": 5
}
